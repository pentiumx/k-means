{
 "cells": [
  {
   "cell_type": "code",
   "execution_count": 1,
   "metadata": {
    "collapsed": false
   },
   "outputs": [
    {
     "name": "stdout",
     "output_type": "stream",
     "text": [
      "**************************************************\n",
      "[[ 6.89074234  6.8826605 ]\n",
      " [ 8.72622663  7.02000957]\n",
      " [ 3.12143209  7.21223411]\n",
      " [-0.51569781  4.61986026]\n",
      " [ 8.04079975 -0.19360374]\n",
      " [-4.8915457  -4.1341086 ]\n",
      " [-6.27571783  5.65130932]\n",
      " [ 5.28635023 -6.32514816]\n",
      " [ 3.36416825  2.36129769]\n",
      " [ 4.94125634  9.58074981]]\n",
      "[1 7 5 8 6 7 3 7 6 5 7 0 5 9 5 5 6 4 5 5 8 4 6 6 5 7 6 2 6 4 7 6 1 5 6 8 5\n",
      " 4 5 4 7 5 7 7 6 5 4 1 4 0 3 5 6 5 6 7 7 1 6 4 3 4 5 4 1 7 6 5 7 7 0 7 6 6\n",
      " 7 8 5 0 3 5 4 6 5 3 8 0 6 3 6 4 2 8 5 0 5 6 3 7 7 5 4 7 8 5 7 7 5 8 3 6 7\n",
      " 3 6 3 5 1 4 4 1 3 7 5 8 5 5 6 4 8 7 5 5 5 5 4 2 7 5 6 9 4 7 8 6 4 5 5 1 5\n",
      " 7 4 6 6 6 5 3 2 7 0 1 2 7 0 5 3 6 7 5 6 7 6 7 5 8 5 7 5 5 8 5 7 7 3 7 7 2\n",
      " 6 5 4 5 7 5 7 5 5 5 2 1 8 7 8 7 3 6 6 8 6 3 0 7 7 5 7 5 8 6 6 3 8 3 8 5 9\n",
      " 7 7 7 5 8 3 4 4 5 7 8 3 6 5 8 6 6 5 7 6 0 1 6 6 5 6 8 6 7 4 7 7 6 2 7 6 5\n",
      " 5 2 8 4 6 6 8 5 8 5 7 5 7 2 7 6 7 5 1 5 7 0 0 8 8 5 6 7 5 3 6 6 5 3 6 6 4\n",
      " 7 7 5 4]\n"
     ]
    }
   ],
   "source": [
    "%matplotlib inline\n",
    "\n",
    "import numpy as np\n",
    "import os\n",
    "import sys\n",
    "import random\n",
    "import math\n",
    "import matplotlib as plt\n",
    "\n",
    "radius = 10\n",
    "num = 300\n",
    "input_data = np.random.uniform(-radius, radius, (num, 2))\n",
    "\n",
    "def kmeans(input_data, k):\n",
    "    # perform k-means clustering\n",
    "    # ref: https://home.deib.polimi.it/matteucc/Clustering/tutorial_html/kmeans.html\n",
    "\n",
    "    # initialize mean vectors\n",
    "    prev_means = np.random.uniform(0, 10, (k, 2))\n",
    "    cur_means = np.random.uniform(0, 10, (k, 2))\n",
    "    \n",
    "    # mapping array showing that which cluster a point belongs to\n",
    "    clusters = np.random.randint(0, k, input_data.shape[0])\n",
    "\n",
    "    # repeat until there are no changes in mean vectors\n",
    "    while (prev_means != cur_means).all():\n",
    "        prev_means = cur_means.copy()\n",
    "\n",
    "        # Step 1: use the estimated means to classify data samples\n",
    "        for i, data in enumerate(input_data):\n",
    "            min_mean = 0 # index of mean\n",
    "            min_dist = 9999  # current minimum distance\n",
    "\n",
    "            # data => [x, y]\n",
    "            # check which centroid is the nearest\n",
    "            for j, mean in enumerate(cur_means):\n",
    "                dist = distance(data, mean)\n",
    "                if dist < min_dist:\n",
    "                    min_mean = j\n",
    "                    min_dist = dist\n",
    "\n",
    "            # update the cluster this point belongs to\n",
    "            clusters[i] = min_mean\n",
    "\n",
    "        # Step 2: replace means with mean of current data samples belonging to cluster i\n",
    "        for j, mean in enumerate(cur_means):\n",
    "            indices = np.where(clusters == j)\n",
    "            samples = input_data[indices]\n",
    "            if len(samples) != 0:\n",
    "                cur_means[j] = np.mean(samples, axis=0)\n",
    "\n",
    "    # return cluster info and means of clusters\n",
    "    return clusters, cur_means\n",
    "\n",
    "def distance(p1, p2):\n",
    "    d1 = p1[0]-p2[0]\n",
    "    d2 = p1[1]-p2[1]\n",
    "    return math.sqrt( d1*d1 + d2*d2 )\n",
    "\n",
    "k = 10\n",
    "clusters, means = kmeans(input_data, k)\n",
    "print('*'*50)\n",
    "print (means)\n",
    "print (clusters)"
   ]
  },
  {
   "cell_type": "code",
   "execution_count": 2,
   "metadata": {
    "collapsed": false
   },
   "outputs": [
    {
     "data": {
      "image/png": "[encoded data removed]",
      "text/plain": [
       "<matplotlib.figure.Figure at 0x108b8f588>"
      ]
     },
     "metadata": {},
     "output_type": "display_data"
    }
   ],
   "source": [
    "import matplotlib.pyplot as plt\n",
    "import matplotlib.cm as cm\n",
    "\n",
    "x = []\n",
    "y = []\n",
    "for data in input_data:\n",
    "    x.append(data[0])\n",
    "    y.append(data[1])\n",
    "\n",
    "mean_x = []\n",
    "mean_y = []\n",
    "for mean in means:\n",
    "    mean_x.append(mean[0])\n",
    "    mean_y.append(mean[1])\n",
    "\n",
    "plt.scatter(x, y)\n",
    "plt.scatter(mean_x, mean_y, color='red')\n",
    "plt.show()\n"
   ]
  },
  {
   "cell_type": "code",
   "execution_count": null,
   "metadata": {
    "collapsed": true
   },
   "outputs": [],
   "source": []
  }
 ],
 "metadata": {
  "kernelspec": {
   "display_name": "Python 3",
   "language": "python",
   "name": "python3"
  },
  "language_info": {
   "codemirror_mode": {
    "name": "ipython",
    "version": 3
   },
   "file_extension": ".py",
   "mimetype": "text/x-python",
   "name": "python",
   "nbconvert_exporter": "python",
   "pygments_lexer": "ipython3",
   "version": "3.5.0"
  }
 },
 "nbformat": 4,
 "nbformat_minor": 2
}
